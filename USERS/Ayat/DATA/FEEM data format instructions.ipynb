{
 "cells": [
  {
   "cell_type": "markdown",
   "id": "798843ac-935e-4467-9959-326c44405c6a",
   "metadata": {},
   "source": [
    "# FEEM data format instructions\n",
    "\n",
    "put in a as an mfile.  like temlateFEEMdata.m.  Easist to do this in a spreadsheet and then cut and paste the whole thing. An examle PEM file from the AQUALOG is included in this directory if it helps you make sense of the process.\n",
    "\n",
    "for the final mfile ... -99 in the top left corner.  then em wavelengths as the rest of that top row.\n",
    "\n",
    "first column (under the -99) is the excitation wavelengths.\n",
    "\n",
    "Then fill in the matrix between (each em spectra as a row, each ex spectra as a column).\n",
    "\n",
    "the basename of the mfile (name without the \".m\" extension, is what you will use to call the data from the processing functions. <span style=\"color:red\">so remember that !</span>  ONE filename per sample."
   ]
  },
  {
   "cell_type": "code",
   "execution_count": 8,
   "id": "fdb75de7-d9e8-49d2-b3ac-782b52c4c1aa",
   "metadata": {
    "tags": []
   },
   "outputs": [],
   "source": [
    "% housekeeping\n",
    "% add scriptpath and OPENFluordatabase\n",
    "txt=pwd;\n",
    "n=length(txt);\n",
    "rootpath=txt; rootpath=txt(1:n-16);\n",
    "scriptpath=[rootpath,'/FEEMscripts'];\n",
    "addpath(scriptpath);\n",
    "OPENFluorpath=[rootpath,'/OPENFluordatabase'];\n",
    "addpath(OPENFluorpath);\n",
    "% add  datapath privatedata paths\n",
    "rootpath=txt; rootpath=txt;\n",
    "datapath=[rootpath,'/DATA'];\n",
    "addpath(datapath);\n",
    "%privatepath=[rootpath,'/PRIVATE']; c=exist(privatepath); % only add path if it exists\n",
    "%if c>0; addpath(privatepath); end\n",
    "% clear data and number format\n",
    "clear; format short e\n",
    "% turn off warnings\n",
    "warning off\n",
    "graphics_toolkit (\"notebook\"); \n",
    "%graphics_toolkit (\"plotly\"); "
   ]
  },
  {
   "cell_type": "code",
   "execution_count": 9,
   "id": "3991741f-d64a-46f9-a023-87d53d6f70a6",
   "metadata": {
    "tags": []
   },
   "outputs": [
    {
     "ename": "Execution exception",
     "evalue": "parse error near line 7 of file /home/jovyan/USERS/Ayat/DATA/sample1data.m\n\n  syntax error\n\n>>> end\n      ^\n",
     "output_type": "error",
     "traceback": [
      "Execution exception: parse error near line 7 of file /home/jovyan/USERS/Ayat/DATA/sample1data.m\n\n  syntax error\n\n>>> end\n      ^\n",
      ""
     ]
    }
   ],
   "source": [
    "%input the FEEM data file and DOC conc\n",
    "\n",
    "% you have to change this to match the data in either the DATA directory\n",
    "% or the PRIVATE directory.  NOT in both places.\n",
    "\n",
    "%%%%%%%%%%%%%%%%%%%%%%%%%%%%%%%%%%%%%%%%5\n",
    "dataname=['sample1data']; DOC=7.164;\n",
    "caxisvalue=[]; % put in a caxisvalue if you want a fixed colour axis (to compare between samples, otherwise it automatically rescales)\n",
    "%%%%%%%%%%%%%%%%%%%%%%%%%%%%%%%%%%%%%555\n",
    "\n",
    "txt=['[data]=',dataname,';']; eval(txt)"
   ]
  }
 ],
 "metadata": {
  "kernelspec": {
   "display_name": "Octave (xoctave)",
   "language": "Octave",
   "name": "xoctave"
  },
  "language_info": {
   "codemirror_mode": "octave",
   "file_extension": ".m",
   "mimetype": "text/x-octave",
   "name": "Octave",
   "nbconvert_exporter": "",
   "pygments_lexer": "octave",
   "version": "7.3.0"
  }
 },
 "nbformat": 4,
 "nbformat_minor": 5
}
