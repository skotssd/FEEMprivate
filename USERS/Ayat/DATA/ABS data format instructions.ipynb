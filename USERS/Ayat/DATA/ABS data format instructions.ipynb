{
 "cells": [
  {
   "cell_type": "markdown",
   "id": "798843ac-935e-4467-9959-326c44405c6a",
   "metadata": {},
   "source": [
    "# ABS data format instructions\n",
    "\n",
    "put in a as an mfile.  like temlateABSdata.m.  first column is the wavelength.  second column is the aborbance.\n",
    "\n",
    "the basename of the mfile (name without the \".m\" extension, is what you will use to call the data from the processing functions. so remember that."
   ]
  }
 ],
 "metadata": {
  "kernelspec": {
   "display_name": "Octave (xoctave)",
   "language": "Octave",
   "name": "xoctave"
  },
  "language_info": {
   "codemirror_mode": "octave",
   "file_extension": ".m",
   "mimetype": "text/x-octave",
   "name": "Octave",
   "nbconvert_exporter": "",
   "pygments_lexer": "octave",
   "version": "7.3.0"
  }
 },
 "nbformat": 4,
 "nbformat_minor": 5
}
