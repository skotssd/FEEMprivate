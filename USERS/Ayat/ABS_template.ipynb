{
 "cells": [
  {
   "cell_type": "markdown",
   "id": "d1c80cde-bd09-4587-96cc-ef8175489546",
   "metadata": {},
   "source": [
    "# Process example for absorbance data\n",
    "\n",
    "Change the absorbance AND DOC data to match your data. You can also change the reporting wavelength for the SAC value.\n",
    "\n",
    "the first cell is for housekeepings stuff that just sets the relative paths so the data and scripts can be found.\n",
    "\n",
    "the second cell inputs the data ... so here is where you need to specify the filename (in the DATA OR PRIVATE directory (not both)).  Also you tell the DOC here.\n",
    "\n",
    "The third cell plots the data\n",
    "\n",
    "The fourth cell tells the SAC value (Based on measured abs and DOC).  you NEED to specify the wavelength if you want something other than 340nm (the way I wrote it originally is for 340 nm)."
   ]
  },
  {
   "cell_type": "code",
   "execution_count": 1,
   "id": "a3ab6832-78a5-45cb-b013-35efdb439ea4",
   "metadata": {},
   "outputs": [],
   "source": [
    "% housekeeping\n",
    "% add scriptpath and OPENFluordatabase\n",
    "txt=pwd;\n",
    "n=length(txt);\n",
    "rootpath=txt; rootpath=txt(1:n-13);\n",
    "scriptpath=[rootpath,'/FEEMscripts'];\n",
    "addpath(scriptpath);\n",
    "% add  datapath privatedata paths\n",
    "rootpath=txt; rootpath=txt;\n",
    "datapath=[rootpath,'/DATA'];\n",
    "addpath(datapath);\n",
    "privatepath=[rootpath,'/PRIVATE']; c=exist(privatepath); % only add path if it exists\n",
    "if c>0; addpath(privatepath); end\n",
    "% clear data and number format\n",
    "clear; format short e\n",
    "% turn off warnings\n",
    "warning off\n",
    "graphics_toolkit (\"notebook\"); \n",
    "%graphics_toolkit (\"plotly\"); "
   ]
  },
  {
   "cell_type": "code",
   "execution_count": 2,
   "id": "d22aad4c-8d94-4f50-81f3-4e22c3baad3f",
   "metadata": {},
   "outputs": [],
   "source": [
    "%input the ABS data file and DOC conc\n",
    "\n",
    "% you have to change this to match the data in either the DATA directory\n",
    "% or the PRIVATE directory.  NOT in both places.\n",
    "\n",
    "%%%%%%%%%%%%%%%%%%%%%%%%%%%%%%%%%%%%%%%%5\n",
    "dataname=['templateABSdata']; DOC=13.24;\n",
    "%%%%%%%%%%%%%%%%%%%%%%%%%%%%%%%%%%%%%555\n",
    "\n",
    "txt=['[wavelength, absspectra]=',dataname,';']; eval(txt)"
   ]
  },
  {
   "cell_type": "code",
   "execution_count": 3,
   "id": "e8b59675-d3d9-4baf-8b12-bc160bfe2415",
   "metadata": {},
   "outputs": [
    {
     "data": {
      "image/png": "[encoded data removed]"
     },
     "metadata": {
      "image/png": {
       "height": 420,
       "width": 560
      }
     },
     "output_type": "display_data"
    }
   ],
   "source": [
    "% plot the data\n",
    "\n",
    "plot(wavelength,absspectra,'linewidth',2); \n",
    "xlabel('wavelength (nm)'); ylabel('absorbance')\n",
    "set(gca,'linewidth',2,'fontsize',12)"
   ]
  },
  {
   "cell_type": "code",
   "execution_count": 4,
   "id": "89353050-7cee-411a-a8b4-34b7ea36999c",
   "metadata": {},
   "outputs": [
    {
     "data": {
      "text/plain": [
       "disp = SAC at 340 nm =0.060514 +/- 0\n"
      ]
     },
     "metadata": {},
     "output_type": "display_data"
    }
   ],
   "source": [
    "% output the SAC values\n",
    "% you can change the wavelength and the width\n",
    "\n",
    "\n",
    "%%%%%%%%%%%%%%%%%%%%%%%%%%%%%%%%%%%%%%%%%%%%%555\n",
    "SACwavelength=340; width=1; % width is the number of values below and above to include in the interpolation\n",
    "%%%%%%%%%%%%%%%%%%%%%%%%%%%%%%%%%%%%%%%%%%%%%%%%%\n",
    "\n",
    "[SACm,SACs]=SACcalc(wavelength,absspectra,DOC,SACwavelength,width);\n",
    "\n",
    "disp=['SAC at ',num2str(SACwavelength),' nm =',num2str(SACm),' +/- ', num2str(SACs)]\n"
   ]
  }
 ],
 "metadata": {
  "kernelspec": {
   "display_name": "Octave (xoctave)",
   "language": "Octave",
   "name": "xoctave"
  },
  "language_info": {
   "codemirror_mode": "octave",
   "file_extension": ".m",
   "mimetype": "text/x-octave",
   "name": "Octave",
   "nbconvert_exporter": "",
   "pygments_lexer": "octave",
   "version": "7.3.0"
  }
 },
 "nbformat": 4,
 "nbformat_minor": 5
}
