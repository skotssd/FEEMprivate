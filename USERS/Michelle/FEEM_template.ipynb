{
 "cells": [
  {
   "cell_type": "markdown",
   "id": "25a11da7-f173-484c-90b0-0068aae0c8e3",
   "metadata": {},
   "source": [
    "# Process example for FEEM data\n",
    "\n",
    "<span style=\"color:blue\">USE THIS AS A TEMPLATE TO MAKE YOUR OWN DATA PROCESSING FILES:</span>. <span style=\"color:red\">SAVE EACH SAMPLE AS A NEW FILENAME</span>.\n",
    "\n",
    "I am thinking you will put the processing files in this directory and store only the original data in the DATA or PRIVATE directories.  How you organize the directories is up to you though.\n",
    "\n",
    "The **first block** below is housekeeping.  It makes the paths with the data searchable. As well as the scripts for data processing (these should not need to be changed).  \n",
    "\n",
    "The data you are processing needs to be put in the DATA or the PRIVATE directory.  The DATA directory will be backed up to github.  PRIVATE will only be stored locally so could be lost ... but you can always back up yourself.  The reason I did it this way is in case you want to avoid making your raw data public on github.  Without context I don't think the data could be publishable by anyone else but I any user to have the option to keep their data private.\n",
    "\n",
    "The **second block** you need to edit with your data file name (data file stored in DATA or PRIVATE directory).  There are instructions in DATA for how to format the data, but should be easy using Aqualog exported data.  ALSO here enter the DOC if you know it (enter 1 if you do not).  The FEEM surface plot will be normalized to DOC (so if you don't want it normalized enter 1 here as well).\n",
    "\n",
    "Also in this block you can enter a caxisvalue (default is [] or empty).  The caxis value will limit the height of the colourmap so you can compare between samples (otherwise it just defaults to maximize the range).  Also c-axis can help you \"zoom in\" if the scatter light it too much.\n",
    "\n",
    "The **third block** is for plotting the FEEM.  The minimum and maximum excitation wavelengths can be specified as well as the width of the scattering lines. If you want to see the scattering lines comment out this line\n",
    "\n",
    "[F,em,ex]=FINTERPFILL(data,scatterfactor,exmin,exmax,stepsize,flagg);\n",
    "\n",
    "If we need publishable images I suggest using matlab.  But for routine data analysis this tool should be sufficient.\n",
    " \n",
    "**fourth block** just exports the optical indices.\n",
    "\n",
    "**fifth block** use the ID number from OPENfluor database to select what set of PARAFAC components will be modelled to your data.  As of writing this models 17305 and older have been uploaded here.  You can find the model ID looking at the database\n",
    "\n",
    "[OPENFluor database](https://openfluor.lablicate.com/)  <span style=\"color:red\">login needed</span>\n",
    "\n",
    "[Summary is posted here (with thumbnail images of each component)](https://docs.google.com/spreadsheets/d/1-Psv4vUMNjIBb6seB5hVN828BOHneAJuYYlWnzZ11J8/edit?usp=sharing)\n",
    "\n",
    "Also the OPENFluordatabase directory here has an ipynb file for each of the entries in the database.  This is also where new entries will be added as they come available.\n",
    "\n",
    "After running this cell, all the components are shown and thier \"concentrations\" to explain the observed data.  The % variability of the original FEEM explained is also shown.\n",
    "\n",
    "Finally **block six** shows the data, the model and the residuals of the FEEM being processed."
   ]
  },
  {
   "cell_type": "markdown",
   "id": "633568b3-6846-4baf-9548-ce7f7da4fe8d",
   "metadata": {},
   "source": [
    "# 1. HOUSEKEEPING"
   ]
  },
  {
   "cell_type": "code",
   "execution_count": 3,
   "id": "4141ec71-119d-4777-b9f7-a45a3f9beffb",
   "metadata": {
    "tags": []
   },
   "outputs": [
    {
     "data": {
      "text/plain": [
       "txt = /home/jovyan/USERS/Michelle\n"
      ]
     },
     "metadata": {},
     "output_type": "display_data"
    },
    {
     "data": {
      "text/plain": [
       "scriptpath = /home/jovyan/USERS/FEEMscripts\n"
      ]
     },
     "metadata": {},
     "output_type": "display_data"
    },
    {
     "data": {
      "text/plain": [
       "OPENFluorpath = /home/jovyan/USERS/OPENFluordatabase\n"
      ]
     },
     "metadata": {},
     "output_type": "display_data"
    },
    {
     "data": {
      "text/plain": [
       "datapath = /home/jovyan/USERS/Michelle/DATA\n"
      ]
     },
     "metadata": {},
     "output_type": "display_data"
    }
   ],
   "source": [
    "% housekeeping\n",
    "% add scriptpath and OPENFluordatabase\n",
    "txt=pwd\n",
    "n=length(txt);\n",
    "rootpath=txt; rootpath=txt(1:n-9);\n",
    "scriptpath=[rootpath,'/FEEMscripts']\n",
    "addpath(scriptpath);\n",
    "OPENFluorpath=[rootpath,'/OPENFluordatabase']\n",
    "addpath(OPENFluorpath);\n",
    "% add  datapath privatedata paths\n",
    "rootpath=txt; rootpath=txt;\n",
    "datapath=[rootpath,'/DATA']\n",
    "addpath(datapath);\n",
    "privatepath=[rootpath,'/PRIVATE']; c=exist(privatepath); % only add path if it exists\n",
    "if c>0; addpath(privatepath); end\n",
    "% clear data and number format\n",
    "clear; format short e\n",
    "% turn off warnings\n",
    "warning off\n",
    "graphics_toolkit (\"notebook\"); \n",
    "%graphics_toolkit (\"plotly\"); "
   ]
  },
  {
   "cell_type": "markdown",
   "id": "169d549b-f622-4137-9979-8aedbbc586de",
   "metadata": {},
   "source": [
    "# 2. ENTER DATA !!! EDIT THIS !!!!"
   ]
  },
  {
   "cell_type": "code",
   "execution_count": 4,
   "id": "f1d48dd6-fc0d-4f64-a073-438434e82b0c",
   "metadata": {
    "tags": []
   },
   "outputs": [],
   "source": [
    "%input the FEEM data file and DOC conc\n",
    "\n",
    "% you have to change this to match the data in either the DATA directory\n",
    "% or the PRIVATE directory.  NOT in both places.\n",
    "\n",
    "%%%%%%%%%%%%%%%%%%%%%%%%%%%%%%%%%%%%%%%%5\n",
    "dataname=['templateFEEMdata']; DOC=7.164;\n",
    "caxisvalue=[]; % put in a caxisvalue if you want a fixed colour axis (to compare between samples, otherwise it automatically rescales)\n",
    "%%%%%%%%%%%%%%%%%%%%%%%%%%%%%%%%%%%%%555\n",
    "\n",
    "txt=['[data]=',dataname,';']; eval(txt)"
   ]
  },
  {
   "cell_type": "markdown",
   "id": "d6154483-7260-4efc-b81c-fe9242ece520",
   "metadata": {},
   "source": [
    "# 3. This makes the FEEM surface."
   ]
  },
  {
   "cell_type": "code",
   "execution_count": 5,
   "id": "d00f6b1a-2c86-4ed2-b6ec-2b6d88a1dd6c",
   "metadata": {
    "tags": []
   },
   "outputs": [
    {
     "ename": "Execution exception",
     "evalue": "'Fprocess' undefined near line 1, column 11",
     "output_type": "error",
     "traceback": [
      "Execution exception: 'Fprocess' undefined near line 1, column 11",
      ""
     ]
    },
    {
     "ename": "Execution exception",
     "evalue": "'FINTERPFILL' undefined near line 1, column 11",
     "output_type": "error",
     "traceback": [
      "Execution exception: 'FINTERPFILL' undefined near line 1, column 11",
      ""
     ]
    },
    {
     "ename": "Execution exception",
     "evalue": "'F' undefined near line 1, column 47",
     "output_type": "error",
     "traceback": [
      "Execution exception: 'F' undefined near line 1, column 47",
      ""
     ]
    },
    {
     "ename": "Execution exception",
     "evalue": "'F' undefined near line 1, column 17",
     "output_type": "error",
     "traceback": [
      "Execution exception: 'F' undefined near line 1, column 17",
      ""
     ]
    }
   ],
   "source": [
    "% process the data\n",
    "scatterfactor=0.01; exmin=240; exmax=400; flagg=0; \n",
    "[F,em,ex]=Fprocess(data,scatterfactor,exmin,exmax,flagg);\n",
    "%interpolate to fill scattered light to make prettier plots\n",
    "scatterfactor=0.085; %exmin=240; exmax=400; \n",
    "stepsize=4; %stepsize is the nm gap on ex and em resampling, if 0 use the original\n",
    "flagg=0; % no diagnostic plot.  if flag=1 then plot to make sure scatter \"zeros\" are all gone\n",
    "[F,em,ex]=FINTERPFILL(data,scatterfactor,exmin,exmax,stepsize,flagg);\n",
    "\n",
    "if isempty(caxisvalue)==1; caxisvalue=max(max(F./DOC)); end\n",
    "makecontourplot(F./DOC,em,ex,1); caxis([0 caxisvalue]);   colorbar"
   ]
  },
  {
   "cell_type": "markdown",
   "id": "d8379bae-d218-4b50-8479-e359ac6b6333",
   "metadata": {},
   "source": [
    "# 4. OPTICAL INDICES FROM FEEM"
   ]
  },
  {
   "cell_type": "code",
   "execution_count": null,
   "id": "c8dc146b-f7de-4d50-8e5b-e8385136bfd9",
   "metadata": {},
   "outputs": [],
   "source": [
    "% report optical indices\n",
    "\n",
    "BIX=calcBIX(F,em,ex)\n",
    "gap=1; HI1=calcHI(F,em,ex,gap)\n",
    "FI=calcFI(F,em,ex)\n"
   ]
  },
  {
   "cell_type": "markdown",
   "id": "66c30281-1515-4026-ad39-b7057fe059d4",
   "metadata": {},
   "source": [
    "# 5. PARAFAC-lite call.  "
   ]
  },
  {
   "cell_type": "code",
   "execution_count": null,
   "id": "6e6a6c06-c100-4b10-ad69-45662f9f7e6d",
   "metadata": {},
   "outputs": [],
   "source": [
    "% plot the components, original, fit and residuals\n",
    "\n",
    "IDno=['2882'];\n",
    "\n",
    "[Ffit,percentdataexplained]=parafaclite(F,em,ex,IDno);\n",
    "\n",
    "percent=num2str(percentdataexplained);\n",
    "\n",
    "display=['percent data explained ',percent,' %']\n"
   ]
  },
  {
   "cell_type": "markdown",
   "id": "180c7531-a383-40bb-8f74-5b5dececd210",
   "metadata": {},
   "source": [
    "# 6. The PARAFAC-lite model and the residuals"
   ]
  },
  {
   "cell_type": "code",
   "execution_count": null,
   "id": "2c399d77-353a-4c8a-bdab-154a409a8db2",
   "metadata": {},
   "outputs": [],
   "source": [
    "subplot(221)\n",
    "contour(em,ex,F); title('original data')\n",
    "subplot(222)\n",
    "contour(em,ex,Ffit); title('model fit')\n",
    "subplot(223)\n",
    "contour(em,ex,F-Ffit); title('residuals')"
   ]
  }
 ],
 "metadata": {
  "kernelspec": {
   "display_name": "Octave (xoctave)",
   "language": "Octave",
   "name": "xoctave"
  },
  "language_info": {
   "codemirror_mode": "octave",
   "file_extension": ".m",
   "mimetype": "text/x-octave",
   "name": "Octave",
   "nbconvert_exporter": "",
   "pygments_lexer": "octave",
   "version": "7.3.0"
  }
 },
 "nbformat": 4,
 "nbformat_minor": 5
}
