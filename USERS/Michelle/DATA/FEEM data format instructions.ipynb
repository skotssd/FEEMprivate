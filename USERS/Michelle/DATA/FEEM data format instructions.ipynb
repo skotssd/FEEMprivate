{
 "cells": [
  {
   "cell_type": "markdown",
   "id": "798843ac-935e-4467-9959-326c44405c6a",
   "metadata": {},
   "source": [
    "# FEEM data format instructions\n",
    "\n",
    "put in a as an mfile.  like temlateFEEMdata.m.  Easist to do this in a spreadsheet and then cut and paste the whole thing. An examle PEM file from the AQUALOG is included in this directory if it helps you make sense of the process.\n",
    "\n",
    "for the final mfile ... -99 in the top left corner.  then em wavelengths as the rest of that top row.\n",
    "\n",
    "first column (under the -99) is the excitation wavelengths.\n",
    "\n",
    "Then fill in the matrix between (each em spectra as a row, each ex spectra as a column).\n",
    "\n",
    "the basename of the mfile (name without the \".m\" extension, is what you will use to call the data from the processing functions. <span style=\"color:red\">so remember that !</span>  ONE filename per sample."
   ]
  }
 ],
 "metadata": {
  "kernelspec": {
   "display_name": "Octave (xoctave)",
   "language": "Octave",
   "name": "xoctave"
  },
  "language_info": {
   "codemirror_mode": "octave",
   "file_extension": ".m",
   "mimetype": "text/x-octave",
   "name": "Octave",
   "nbconvert_exporter": "",
   "pygments_lexer": "octave",
   "version": "7.3.0"
  }
 },
 "nbformat": 4,
 "nbformat_minor": 5
}
