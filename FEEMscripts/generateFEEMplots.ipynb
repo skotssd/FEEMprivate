{
 "cells": [
  {
   "cell_type": "markdown",
   "id": "54f7b4b7-f925-4b20-94ff-cf00a99c756f",
   "metadata": {
    "tags": []
   },
   "source": [
    "# Make FEEM plots\n",
    "\n",
    "edit the file data.m.  That will include -99 as the top left corner (or any number arbitrary number, it is just there to avoid a \"matrix size\" error).  The top row are the ex wavelengths. the left row is the em wavelengths.  The \"middle\" is the fluorescence values.  Change data.m for whatever data you are looking at.  You can save as a different filename.\n",
    "\n",
    "If you prefer it is also possible to upload data.m or another filename.m from a version created locally on your computer.  Just use the upload button in the folder menu.\n",
    "\n",
    "**Do not assume that data.m will not be saved permanently.**  This \"cloud based application\" is a shared resource and many students might use it.  So save your work locally!  Same with the graphs that are generated. you need to collect the graphs you need after generating them.  Also, since this is a shared resource, others will be able to access your data.\n",
    "\n",
    "You can use a snipping tool to get the graphs.\n",
    "\n",
    "https://support.microsoft.com/en-us/windows/use-snipping-tool-to-capture-screenshots-00246869-1843-655f-f220-97299b865f6b\n",
    "\n",
    "Or if you right click on the graphs you can select \"copy to clipboard\" and paste them into powerpoint or equivalent. These won't be publication ready images but we can make those images when you need them using a local installation of the program.  The idea here is that students can process their data without needing a local installation of Matlab or Octave.\n",
    "\n",
    " <span style=\"color: red;\">If the graphs fail to update after changing the data ...</span> **To run this script after updating the data go to the \"Run\" tab and select the bottom entry \"Restart kernel and run all cells\".**\n",
    " \n",
    "in the first cell belo load the data. you may have to restart kernel after every data change (probably not, but if things don't update that is a good failsafe I think). Data stored in the folder /data you can run any data file you want (just change the run command in that cell below).  the results will always be saved to data.mat though and you can run fitFEEMtocomponents after to determine PARAFAC-style composition if you choose.\n"
   ]
  },
  {
   "cell_type": "code",
   "execution_count": 1,
   "id": "60b22376-941b-4aee-bfcf-9d6db9583d63",
   "metadata": {
    "tags": []
   },
   "outputs": [],
   "source": [
    "% load the data. you may have to restart kernel after every data change\n",
    "% data stored in the folder /data\n",
    "% you can run any data file you want.  the results will always be saved to data.mat\n",
    "% you can run fitFEEMtocomponents after to determine PARAFAC-style composition if you choose\n",
    "\n",
    "%datafile=['/home/jovyan/data/Danielle/LOpH9.m'];\n",
    "datafile=['/home/jovyan/USERS/Harper/DATA/KDB-IFB_2024-Sep-30_data.m'];\n",
    "\n",
    "%run(\"/home/jovyan/data/data.m\")\n",
    "%run(\"/home/jovyan/data/data2.m\")\n",
    "%run(\"/home/jovyan/data/Danielle/KWD1026ID0.m\")\n",
    "run(datafile)"
   ]
  },
  {
   "cell_type": "markdown",
   "id": "5fcc7f68-46fa-45c0-813f-1d79658e8afc",
   "metadata": {
    "tags": []
   },
   "source": [
    "# define functions to manipulate the data \n",
    "\n",
    "you can compress these boxes by clicking to the left so they won't \"clutter\" up the screen"
   ]
  },
  {
   "cell_type": "code",
   "execution_count": 2,
   "id": "cc170f89-ddd0-40eb-99c1-01f7c13f668f",
   "metadata": {
    "jupyter": {
     "source_hidden": true
    },
    "tags": []
   },
   "outputs": [],
   "source": [
    "function [F,em,ex]=Fprocess(data,fraction,exmin,exmax,flag)\n",
    "\n",
    "[N,M]=size(data); c=0; if flag==1; data(data==0)=NaN; end\n",
    "\n",
    "for i=2:1:M\n",
    "    c=c+1; MIN=min(data(2:N,i)); F(:,c)=data(2:N,i)-min(data(2:N,i));\n",
    "end\n",
    "\n",
    "F=F'; ex=data(1,2:M); em=data(2:N,1); [N,M]=size(F);\n",
    "\n",
    "\n",
    "\n",
    "for i=1:N\n",
    "    for j=1:M\n",
    "        EM=em(j);\n",
    "        EX=ex(i);\n",
    "        if EM>=EX*(1-fraction)\n",
    "            if EM<=EX*(1+fraction)\n",
    "                F(i,j)=NaN;\n",
    "            end\n",
    "        end\n",
    "    end\n",
    "end\n",
    "  \n",
    "for i=1:N\n",
    "    for j=1:M\n",
    "        EM=em(j);\n",
    "        EX=ex(i);\n",
    "        if EM>=(2*EX)*(1-fraction)\n",
    "            if EM<=(2*EX)*(1+fraction)\n",
    "                F(i,j)=NaN;\n",
    "            end\n",
    "        end\n",
    "    end\n",
    "end\n",
    "\n",
    "% now modify for ex max and min\n",
    "\n",
    "c=0;\n",
    "for k=1:length(ex);\n",
    "    extst=ex(k);\n",
    "    if extst>exmin\n",
    "        if extst<exmax\n",
    "        c=c+1;\n",
    "        EXX(c)=extst;\n",
    "        FX(c,:)=F(k,:);\n",
    "        end\n",
    "    end\n",
    "end\n",
    "\n",
    "F=FX; ex=EXX;\n",
    "\n",
    "end"
   ]
  },
  {
   "cell_type": "code",
   "execution_count": 3,
   "id": "61fdaf0f-c3cb-41c9-a552-09f7dbe5bbca",
   "metadata": {
    "jupyter": {
     "source_hidden": true
    },
    "tags": []
   },
   "outputs": [],
   "source": [
    "\n",
    "function [G,H,I]=resample(data,em,ex,samplefreq)\n",
    "\n",
    "% try to resample so things look better\n",
    "\n",
    "[N,M]=size(data); % M is em points N is ex points\n",
    "\n",
    "for i=1:N\n",
    "    Fem=data(i,:); c=0;\n",
    "    for j=1:round(M/samplefreq):M\n",
    "       c=c+1; Femred(c)=Fem(j); emred(c)=em(j);\n",
    "    end\n",
    "    datare(i,:)=Femred;\n",
    "end\n",
    "\n",
    "[N,M]=size(datare); % M is em points N is ex points.  sample into 10 steps.\n",
    "\n",
    "for i=1:M\n",
    "    Fex=datare(:,i); c=0;\n",
    "    for j=1:round(N/samplefreq):N\n",
    "       c=c+1;\n",
    "       Fexred(c)=Fex(j); exred(c)=ex(j);\n",
    "    end\n",
    "    datarere(:,i)=Fexred;\n",
    "end\n",
    "\n",
    "G=datarere;\n",
    "H=emred;\n",
    "I=exred;\n",
    "\n",
    "end"
   ]
  },
  {
   "cell_type": "code",
   "execution_count": 4,
   "id": "344c8a0a-c0ad-45e8-80e9-03a220e32a55",
   "metadata": {
    "jupyter": {
     "source_hidden": true
    },
    "tags": []
   },
   "outputs": [],
   "source": [
    "function makesurfaceplot(F,em,ex)\n",
    " colormap('jet'); shading interp\n",
    " h=surf(em,ex,F);\n",
    " set(gca,'linewidth',2)\n",
    " view([-26 48])\n",
    " axis([min(em) max(em) min(ex) max(ex) 0 max(max(F))*1.1])\n",
    " h=xlabel('Emission (nm)'); set(h,'fontsize',12)\n",
    " h=ylabel('Excitation (nm)');  set(h,'fontsize',12)\n",
    " h=zlabel('Intensity (arb.)'); set(h,'fontsize',12)\n",
    "end"
   ]
  },
  {
   "cell_type": "code",
   "execution_count": 5,
   "id": "eef832d4-7d08-497b-8bc1-cf812fc81239",
   "metadata": {
    "jupyter": {
     "source_hidden": true
    },
    "tags": []
   },
   "outputs": [],
   "source": [
    "function makemeshplot(F,em,ex)\n",
    " colormap('jet'); \n",
    " h=mesh(em,ex,F);\n",
    " set(gca,'linewidth',2)\n",
    " view([-26 48])\n",
    " shading flat\n",
    " axis([min(em) max(em) min(ex) max(ex) 0 max(max(F))*1.1])\n",
    " h=xlabel('Emission (nm)'); set(h,'fontsize',12)\n",
    " h=ylabel('Excitation (nm)');  set(h,'fontsize',12)\n",
    " h=zlabel('Intensity (arb.)'); set(h,'fontsize',12)\n",
    "end"
   ]
  },
  {
   "cell_type": "code",
   "execution_count": 6,
   "id": "39349957-8a38-4411-839f-3e70ae19f172",
   "metadata": {
    "jupyter": {
     "source_hidden": true
    },
    "tags": []
   },
   "outputs": [],
   "source": [
    "function makecontourplot(F,em,ex)\n",
    " colormap('jet')\n",
    " h=surf(em,ex,F);\n",
    " shading interp\n",
    " hold on; [C,h]=contour3(em,ex,F,3,'k'); set(h,'linewidth',2); \n",
    " set(gca,'linewidth',2,'fontsize',12)\n",
    " axis([min(em) max(em) min(ex) max(ex) 0 max(max(F))])\n",
    " view([0 90])\n",
    " %hold on; plot3([250 600],[450 450],[0 0],'k','linewidth',2)\n",
    " %hold on; plot3([600 600],[220 450],[0 0],'k','linewidth',2)\n",
    " h=xlabel('Emission (nm)'); set(h,'fontsize',12)\n",
    " h=ylabel('Excitation (nm)');  set(h,'fontsize',12)\n",
    " %add scale bar\n",
    " colorbar \n",
    "end"
   ]
  },
  {
   "cell_type": "code",
   "execution_count": 7,
   "id": "095ee352-3eb7-48a2-a285-8a56b793fa76",
   "metadata": {
    "jupyter": {
     "source_hidden": true
    },
    "tags": []
   },
   "outputs": [],
   "source": [
    "function makesimplecontourplot(F,em,ex,num)\n",
    " [C,h]=contour(em,ex,F,num,'k'); set(h,'linewidth',2); \n",
    " set(gca,'linewidth',2,'fontsize',12)\n",
    " axis([min(em) max(em) min(ex) max(ex)])\n",
    " h=xlabel('Emission (nm)'); set(h,'fontsize',12)\n",
    " h=ylabel('Excitation (nm)');  set(h,'fontsize',12)\n",
    "end"
   ]
  },
  {
   "cell_type": "markdown",
   "id": "db68a07a-ce11-4196-9501-4b48b76d563b",
   "metadata": {},
   "source": [
    "# Now make the plots\n",
    "\n",
    "you need to decide the width of the scatter line.  default is 0.02 but sometimes a larger value is necessary to remove all the scatter (scatter depends on molecular size and is not the same for all samples (or spectrometers for that matter).  You also need to set the minimum excitation wavelengths.  Some instruments give a lot of data at excitation wavelengths with no fluorescence (Aqualog for example) and often low excitation wavelengths are just noise that make the rest of the scan hard to read (most instruments operate in ratio mode where the fluorescence is divided by the incident light intensity, low intensity excitation light at low wavelengths results in very large, but noisy signals).\n",
    "\n",
    "You can change the settings and rerun the plots without restarting the kernel (select \"Run\" tab and then \"Run all cells\" or for a specific graph just click the \"play\" button on the top ribbon bar when that cell is selected).\n",
    "\n",
    "There is an optional flag.  If it is set to 1 then all zero values in the original data will be replaced by NaN (not a number).  the reason for this is that sometimes an instrument will automatically set values where emission is less than excitation to zero (you can't  have more energy out than you put in).  With the way I do background subtraction this can lead to strange looking data, so replacing it with NaN potentially takes care of that."
   ]
  },
  {
   "cell_type": "code",
   "execution_count": 8,
   "id": "02628446-cb1e-4f58-9862-b7e3da58d2f9",
   "metadata": {
    "tags": []
   },
   "outputs": [
    {
     "ename": "Execution exception",
     "evalue": "'data' undefined near line 1, column 20",
     "output_type": "error",
     "traceback": [
      "Execution exception: 'data' undefined near line 1, column 20",
      ""
     ]
    },
    {
     "ename": "Execution exception",
     "evalue": "'F' undefined near line 1, column 17",
     "output_type": "error",
     "traceback": [
      "Execution exception: 'F' undefined near line 1, column 17",
      ""
     ]
    }
   ],
   "source": [
    "%contour plot over colourmap.\n",
    "scatterfactor=0.01; exmin=240; exmax=375; flag=1;\n",
    "[F,em,ex]=Fprocess(data,scatterfactor,exmin,exmax,flag);\n",
    "graphics_toolkit (\"notebook\"); \n",
    "makecontourplot(F,em,ex)"
   ]
  },
  {
   "cell_type": "code",
   "execution_count": null,
   "id": "8512f132-19b7-4f19-9778-710a8963e652",
   "metadata": {},
   "outputs": [],
   "source": [
    "%black and white contour plot\n",
    "% need to define the number of contour lines\n",
    "\n",
    "num=3;\n",
    "\n",
    "graphics_toolkit (\"notebook\"); \n",
    "makesimplecontourplot(F,em,ex,num)"
   ]
  },
  {
   "cell_type": "code",
   "execution_count": null,
   "id": "bcd45a3e-cba8-4cf7-8ca0-8ff9dfd81fc5",
   "metadata": {
    "tags": []
   },
   "outputs": [],
   "source": [
    "%plot of all the data in 3D\n",
    "graphics_toolkit (\"notebook\"); \n",
    "makesurfaceplot(F,em,ex)"
   ]
  },
  {
   "cell_type": "code",
   "execution_count": null,
   "id": "3e5f3a75-d114-4fa8-8d4a-7025d6e19bac",
   "metadata": {},
   "outputs": [],
   "source": [
    "% resample the data to improve the appearance of the plot.  looks better if ex and\n",
    "% em are sampled at similar resolution\n",
    "% you need to set the samplefreq parameter\n",
    "graphics_toolkit (\"notebook\"); \n",
    "samplefreq=20; %divide ex and em into samplereq equal steps.  so bigger number closer.\n",
    "[Fr,emr,exr]=resample(F,em,ex,samplefreq); %\n",
    "makesurfaceplot(Fr,emr,exr)"
   ]
  },
  {
   "cell_type": "code",
   "execution_count": null,
   "id": "3cb6cac5-e908-4843-a5c5-5fa0ab6737a1",
   "metadata": {},
   "outputs": [],
   "source": [
    "% resampled plot but with a wire mesh look\n",
    "graphics_toolkit (\"notebook\"); \n",
    "makemeshplot(Fr,emr,exr)"
   ]
  },
  {
   "cell_type": "markdown",
   "id": "c419228b-74fa-48ab-8a4e-41fe435d75c4",
   "metadata": {},
   "source": [
    "# Picking specific values\n",
    "\n",
    "Using the graph below you can find fluorescence values at any ex/em pairs that you wish to use for fluorescnece indices such as humification index or fluorescence index."
   ]
  },
  {
   "cell_type": "code",
   "execution_count": null,
   "id": "e25c460b-716d-4777-9cdb-cff6b0529d69",
   "metadata": {},
   "outputs": [],
   "source": [
    "% use the plotly plotting command to make the surface rotatable\n",
    "graphics_toolkit (\"plotly\"); \n",
    "makesurfaceplot(F,em,ex)"
   ]
  },
  {
   "cell_type": "markdown",
   "id": "bbacfcd8-dce4-4c4d-8683-a4310a6a26bc",
   "metadata": {},
   "source": [
    "# Printing\n",
    "\n",
    "If you want to print replace the graphing command below with whatever one you want to use (from the examples above).  Make sure you save the fig.png file (it will dissapear when the machine is restarted).  If you need higher resolution image the svg command might be better."
   ]
  },
  {
   "cell_type": "code",
   "execution_count": null,
   "id": "ae4bc4cd-1a47-49ec-ae55-978e07a9fe74",
   "metadata": {},
   "outputs": [],
   "source": [
    "% print the plots as files for download.  also download data as a mat file\n",
    "% remove the comment below to generate the file for download\n",
    "\n",
    "%save data.mat F em ex\n",
    "\n",
    "%available_graphics_toolkits ()\n",
    "%graphics_toolkit (\"fltk\"); \n",
    "\n",
    "%%% remove the comment (%) from the two commands below\n",
    "%makemeshplot(Fr,emr,exr)\n",
    "%print fig.png -dpng\n",
    "%%%%%%%%%%%%%%%%%%%%%%%%%%%%%%%%%55\n",
    "\n"
   ]
  },
  {
   "cell_type": "markdown",
   "id": "077e72d3-197f-4b1d-82d6-f27ab336c05f",
   "metadata": {},
   "source": [
    "# SAVE\n",
    "\n",
    "save the data using the same name as the original file but with .mat instead of .m.. also to the same path.\n",
    "\n",
    "save data.mat F em ex Fr emr exr"
   ]
  },
  {
   "cell_type": "code",
   "execution_count": null,
   "id": "f40cc7ef-d460-48b6-abad-64fbdd25fd2d",
   "metadata": {},
   "outputs": [],
   "source": [
    "forsave=datafile(1:end-1);\n",
    "forsave=[forsave,'mat']\n",
    "txt=['save ',forsave,' F em ex Fr emr exr']; eval(txt)"
   ]
  },
  {
   "cell_type": "markdown",
   "id": "9933bddf-a014-4d55-837c-ed8543107d05",
   "metadata": {},
   "source": [
    "# To add\n",
    "\n",
    "1. linear regression and OpenFlour database components  (see fitFEEMtocomponents.ipynb)\n",
    "2. absorbance correction (although Aqualog should do this automatically)\n",
    "3. SIMPLISMA self modelling mixture analysis\n",
    "4. Automate fluorescence index calculations"
   ]
  }
 ],
 "metadata": {
  "kernelspec": {
   "display_name": "Octave (xoctave)",
   "language": "Octave",
   "name": "xoctave"
  },
  "language_info": {
   "codemirror_mode": "octave",
   "file_extension": ".m",
   "mimetype": "text/x-octave",
   "name": "Octave",
   "nbconvert_exporter": "",
   "pygments_lexer": "octave",
   "version": "7.3.0"
  }
 },
 "nbformat": 4,
 "nbformat_minor": 5
}
