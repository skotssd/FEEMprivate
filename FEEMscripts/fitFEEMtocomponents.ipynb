{
 "cells": [
  {
   "cell_type": "markdown",
   "id": "54f7b4b7-f925-4b20-94ff-cf00a99c756f",
   "metadata": {},
   "source": [
    "# FIRST RUN generateFEEMplots\n",
    "\n",
    "after running generateFEEMplots the variables F em and ex will be available for the fitting routine here.\n",
    "\n",
    "component options available here (taken from OpenFluor database https://openfluor.lablicate.com/)\n",
    "\n",
    "https://docs.google.com/spreadsheets/d/1-Psv4vUMNjIBb6seB5hVN828BOHneAJuYYlWnzZ11J8/edit?usp=sharing \n",
    "\n",
    "use ID to select sample for fitting.\n"
   ]
  },
  {
   "cell_type": "code",
   "execution_count": 1,
   "id": "60b22376-941b-4aee-bfcf-9d6db9583d63",
   "metadata": {
    "tags": []
   },
   "outputs": [
    {
     "ename": "Execution exception",
     "evalue": "load: unable to find file /home/jovyan/data/Danielle/KWD231026ID0.mat",
     "output_type": "error",
     "traceback": [
      "Execution exception: load: unable to find file /home/jovyan/data/Danielle/KWD231026ID0.mat",
      ""
     ]
    }
   ],
   "source": [
    "% load the data. you may have to restart kernel after every data change\n",
    "\n",
    "clear\n",
    "\n",
    "load /home/jovyan/data/Danielle/KWD231026ID0.mat\n",
    "\n",
    "who\n",
    "%load /home/jovyan/data/Katharina/KDB-IFB-1.mat\n",
    "%ex"
   ]
  },
  {
   "cell_type": "markdown",
   "id": "5fcc7f68-46fa-45c0-813f-1d79658e8afc",
   "metadata": {
    "tags": []
   },
   "source": [
    "# define functions to manipulate the data \n",
    "\n",
    "you can compress these boxes by clicking to the left so they won't \"clutter\" up the screen"
   ]
  },
  {
   "cell_type": "code",
   "execution_count": null,
   "id": "39349957-8a38-4411-839f-3e70ae19f172",
   "metadata": {
    "tags": []
   },
   "outputs": [],
   "source": [
    "function makecontourplot(F,em,ex)\n",
    " colormap('jet')\n",
    " h=surf(em,ex,F);\n",
    " shading interp\n",
    " hold on; [Cref,h]=contour3(em,ex,F,3,'k'); set(h,'linewidth',2); \n",
    " set(gca,'linewidth',2,'fontsize',12)\n",
    " axis([min(em) max(em) min(ex) max(ex) 0 max(max(F))])\n",
    " view([0 90])\n",
    " hold on; plot3([250 600],[450 450],[0 0],'k','linewidth',2)\n",
    " hold on; plot3([600 600],[220 450],[0 0],'k','linewidth',2)\n",
    " h=xlabel('Emission (nm)'); set(h,'fontsize',12)\n",
    " h=ylabel('Excitation (nm)');  set(h,'fontsize',12)\n",
    " %add scale bar\n",
    " colorbar \n",
    "end"
   ]
  },
  {
   "cell_type": "markdown",
   "id": "bb850e93-01f2-41cc-9f37-31965e7fc568",
   "metadata": {},
   "source": [
    "# visualize the original data\n"
   ]
  },
  {
   "cell_type": "code",
   "execution_count": null,
   "id": "02628446-cb1e-4f58-9862-b7e3da58d2f9",
   "metadata": {
    "tags": []
   },
   "outputs": [],
   "source": [
    "%contour plot over colourmap.\n",
    "graphics_toolkit (\"notebook\"); \n",
    "makecontourplot(F,em,ex)"
   ]
  },
  {
   "cell_type": "code",
   "execution_count": null,
   "id": "b3ed08c6-2f1d-4187-ba89-be80f7c2333a",
   "metadata": {},
   "outputs": [],
   "source": [
    "% load the model\n",
    "\n",
    "%load ID15154.mat %ex 250-500 em 300-550\n",
    "%load ID13953.mat %ex 250-500 em 300-550\n",
    "%load ID13953.mat %ex 250-500 em 300-550\n",
    "%load ID6307.mat %ex 275-450 em 230-440\n",
    "%load ID9659.mat %EX range 240 to 450 EM range 300 to 600\n",
    "%load IDNoneatthemoment.mat %ex 200-450 em 250-600\n",
    "%load ID6173.mat %245-450 and 300-560\n",
    "%load ID9954.mat %245-450 and 300-560\n",
    "%load ID6509.mat %230-450\t260-550\n",
    "load ID2882.mat %230-450\t260-550\n",
    "\n",
    "% interpolate over this em and ex for the dataset\n",
    "\n",
    "for i=1:C\n",
    "    istr=num2str(i);\n",
    "    txt=['Cem',istr','i=interp1(Cem,Cem',istr,',em); Cem',istr,'i(isnan(Cem',istr,'i))=0;'];\n",
    "    eval(txt)\n",
    "    txt=['Cex',istr','i=interp1(Cex,Cex',istr,',ex); Cex',istr,'i(isnan(Cex',istr,'i))=0;'];\n",
    "    eval(txt)\n",
    "    %Cex1i=interp1(Cex,Cex1,ex); Cex1i(isnan(Cex1i))=0; \n",
    "    size(Cex1i)\n",
    "    size(Cem1i)\n",
    "    txt=['F',istr,'=Cex',istr,'i''*Cem',istr,'i'';']; eval(txt);\n",
    "    subplot(3,3,i); hold on;\n",
    "    txt=['contour(em,ex,F',istr,')']; eval(txt)\n",
    "    title(istr)\n",
    "end\n",
    "    "
   ]
  },
  {
   "cell_type": "code",
   "execution_count": null,
   "id": "6f1e3708-3b6a-4811-a1c6-5283cf894aa2",
   "metadata": {},
   "outputs": [],
   "source": [
    "% fit to a linear model\n",
    "FnoNaN=F; FnoNaN(isnan(FnoNaN))=0; % get rid of NaN in the original matrix\n",
    "\n",
    "%fcn=@(p)(sum(sum((FnoNaN-((10^p(1)).*F1+(10^p(2)).*F2+(10^p(3)).*F3+(10^p(4)).*F4+(10^p(5)).*F5)).^2)));\n",
    "%p0=[2;2;2;2;2]; \n",
    "    \n",
    "runningtxt=['fcn=@(p)(sum(sum((FnoNaN-('];\n",
    "for i=1:C\n",
    "    istr=num2str(i);\n",
    "    runningtxt=[runningtxt,'(10^p(',istr,')).*F',istr,'+'];\n",
    "    p0(i)=1;\n",
    "end\n",
    "\n",
    "runningtxt=runningtxt(1:length(runningtxt)-1); txt=[runningtxt,')).^2)));']; eval(txt);\n",
    "options=optimset('MaxFunEvals',10000,'display','off','TolFun',1e-5,'TolX',1e-5);\n",
    "[pmin,fval]=fminsearch(fcn,p0,options); p=10.^pmin\n",
    "\n",
    "Ffit=zeros(size(F));\n",
    "for i=1:C\n",
    "    istr=num2str(i);\n",
    "    txt=['Ffit=Ffit+p(i)*F',istr,';']; eval(txt);\n",
    "end\n",
    "sumF=sum(sum(FnoNaN)); sumFfit=sum(sum(Ffit)); \n",
    "overallfit=100*(sumF-sumFfit)./sumF\n",
    "\n",
    "%fcn\n",
    "    "
   ]
  },
  {
   "cell_type": "code",
   "execution_count": null,
   "id": "ecac913a-aac4-4685-b11b-5d50073f212b",
   "metadata": {},
   "outputs": [],
   "source": [
    "subplot(221)\n",
    "contour(em,ex,F)\n",
    "subplot(222)\n",
    "contour(em,ex,Ffit)\n",
    "subplot(223)\n",
    "contour(em,ex,F-Ffit)"
   ]
  }
 ],
 "metadata": {
  "kernelspec": {
   "display_name": "Octave (xoctave)",
   "language": "Octave",
   "name": "xoctave"
  },
  "language_info": {
   "codemirror_mode": "octave",
   "file_extension": ".m",
   "mimetype": "text/x-octave",
   "name": "Octave",
   "nbconvert_exporter": "",
   "pygments_lexer": "octave",
   "version": "7.3.0"
  }
 },
 "nbformat": 4,
 "nbformat_minor": 5
}
